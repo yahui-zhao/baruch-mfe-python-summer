{
 "cells": [
  {
   "cell_type": "markdown",
   "metadata": {},
   "source": [
    "# Python HW1"
   ]
  },
  {
   "cell_type": "markdown",
   "metadata": {},
   "source": [
    "_**<front size = 3 color = black>by: Yahui Zhao</font>**_"
   ]
  },
  {
   "cell_type": "markdown",
   "metadata": {},
   "source": [
    "## Write a Jupyter Magic"
   ]
  },
  {
   "cell_type": "code",
   "execution_count": 27,
   "metadata": {},
   "outputs": [],
   "source": [
    "from IPython.core.magic import (register_line_magic, register_cell_magic,\n",
    "                                register_line_cell_magic)\n",
    "\n",
    "@register_line_cell_magic\n",
    "def countwords(line, cell=None):\n",
    "    \"Magic that works both as %countwords and as %%countwords\"\n",
    "    if cell is None:\n",
    "        return len(line.split())\n",
    "    else:\n",
    "        return len((line + cell).split())"
   ]
  },
  {
   "cell_type": "code",
   "execution_count": 30,
   "metadata": {},
   "outputs": [
    {
     "data": {
      "text/plain": [
       "5"
      ]
     },
     "execution_count": 30,
     "metadata": {},
     "output_type": "execute_result"
    }
   ],
   "source": [
    "%countwords this is a line magic"
   ]
  },
  {
   "cell_type": "code",
   "execution_count": 31,
   "metadata": {},
   "outputs": [
    {
     "data": {
      "text/plain": [
       "5"
      ]
     },
     "execution_count": 31,
     "metadata": {},
     "output_type": "execute_result"
    }
   ],
   "source": [
    "%%countwords\n",
    "\n",
    "this is a magic\n",
    "cell"
   ]
  },
  {
   "cell_type": "markdown",
   "metadata": {},
   "source": [
    "## Profile the speed of list comprehension vs. for loops"
   ]
  },
  {
   "cell_type": "markdown",
   "metadata": {},
   "source": [
    "Speed of the List Comprehension:"
   ]
  },
  {
   "cell_type": "code",
   "execution_count": 48,
   "metadata": {},
   "outputs": [
    {
     "name": "stdout",
     "output_type": "stream",
     "text": [
      "Wall time: 155 ms\n"
     ]
    }
   ],
   "source": [
    "import math\n",
    "\n",
    "%time list_comprehension = [i for i in range(int(math.pow(10, 6)))]"
   ]
  },
  {
   "cell_type": "markdown",
   "metadata": {},
   "source": [
    "Speed of the for loops:"
   ]
  },
  {
   "cell_type": "code",
   "execution_count": 49,
   "metadata": {},
   "outputs": [
    {
     "name": "stdout",
     "output_type": "stream",
     "text": [
      "Wall time: 379 ms\n"
     ]
    }
   ],
   "source": [
    "%%time\n",
    "list_for_loops = []\n",
    "for i in range(int(math.pow(10, 6))):\n",
    "    list_for_loops.append(i)"
   ]
  },
  {
   "cell_type": "markdown",
   "metadata": {},
   "source": [
    "The speed of list comprehension is faster than for loops."
   ]
  },
  {
   "cell_type": "markdown",
   "metadata": {},
   "source": [
    "## Prime numbers"
   ]
  },
  {
   "cell_type": "code",
   "execution_count": 74,
   "metadata": {},
   "outputs": [],
   "source": [
    "# Define a function to calculate the prime numbers in a list with one line of list comprehension\n",
    "\n",
    "def Prime_numbers(numbers_list):\n",
    "    return [i for i in numbers_list if i!= 1 and all(i % j != 0 for j in range (2, i))]"
   ]
  },
  {
   "cell_type": "code",
   "execution_count": 75,
   "metadata": {},
   "outputs": [
    {
     "data": {
      "text/plain": [
       "[0, 2, 3, 5, 7, 11, 13, 17, 19, 23, 29, 31, 37, 41, 43, 47]"
      ]
     },
     "execution_count": 75,
     "metadata": {},
     "output_type": "execute_result"
    }
   ],
   "source": [
    "# Print the prime numbers in 0-49.\n",
    "\n",
    "Prime_numbers([i for i in range(50)])"
   ]
  },
  {
   "cell_type": "markdown",
   "metadata": {},
   "source": [
    "## Extend the Vector class"
   ]
  },
  {
   "cell_type": "code",
   "execution_count": 94,
   "metadata": {},
   "outputs": [],
   "source": [
    "class Vector:\n",
    "\n",
    "    def __init__(self, *args): \n",
    "        self.data = args\n",
    "\n",
    "    def __repr__(self):\n",
    "        return f'Vector({self.data})'\n",
    "    \n",
    "    def __str__(self):\n",
    "        return f\"({self.data})\"\n",
    "    \n",
    "    def __abs__(self):\n",
    "        return math.sqrt(sum(self.data))\n",
    "\n",
    "    def __add__(self, other): \n",
    "        if (len(self.data) == len(other.data)):\n",
    "            return Vector(*tuple([self.data[i] + other.data[i] for i in range(len(self.data))]))\n",
    "        else:\n",
    "            print(\"Error: The Vectors' size are not the same.\")\n",
    "\n",
    "    def __getitem__(self, index):\n",
    "        if type(index) == int: # get item\n",
    "            return self.data[index]\n",
    "        else: # slicing\n",
    "            return Vector(self.data[index])\n",
    "        \n",
    "    def __len__(self):\n",
    "        return len(self.data)\n",
    "    \n",
    "    def __pow__(self, nums):\n",
    "        return Vector(*[i**nums for i in self.data])"
   ]
  },
  {
   "cell_type": "code",
   "execution_count": 95,
   "metadata": {},
   "outputs": [
    {
     "name": "stdout",
     "output_type": "stream",
     "text": [
      "3\n",
      "(((3, 4),))\n",
      "5\n",
      "((1, 4, 9, 16, 25))\n"
     ]
    }
   ],
   "source": [
    "# construction\n",
    "v = Vector(1, 2, 3, 4, 5)\n",
    "\n",
    "# get item\n",
    "print(v[2])\n",
    "\n",
    "# slicing\n",
    "print(v[2:4])\n",
    "\n",
    "# length\n",
    "print(len(v))\n",
    "\n",
    "# power\n",
    "print(v ** 2)"
   ]
  },
  {
   "cell_type": "markdown",
   "metadata": {},
   "source": [
    "## Case-insensitive dictionary"
   ]
  },
  {
   "cell_type": "code",
   "execution_count": 96,
   "metadata": {},
   "outputs": [],
   "source": [
    "from collections import UserDict\n",
    "\n",
    "class CaseInsensitiveDict(dict):\n",
    "        \n",
    "    def _setitem_(self, key, value):\n",
    "        for i in self.leys():\n",
    "            if i.lower() == key.lower():\n",
    "                self.update({i: value})\n",
    "                return\n",
    "        self.update({key: calue})\n",
    "        \n",
    "    def __getitem__(self, key):\n",
    "        for i in self.keys():\n",
    "            if i.lower() == key.lower():\n",
    "                return self.get(i)"
   ]
  },
  {
   "cell_type": "code",
   "execution_count": 97,
   "metadata": {},
   "outputs": [
    {
     "name": "stdout",
     "output_type": "stream",
     "text": [
      "3\n",
      "4\n",
      "{'A': 4}\n"
     ]
    }
   ],
   "source": [
    "d = CaseInsensitiveDict()\n",
    "d['A'] = 3\n",
    "\n",
    "print(d['a'])\n",
    "\n",
    "d['A'] = 4\n",
    "print(d['a'])\n",
    "\n",
    "print(d)"
   ]
  }
 ],
 "metadata": {
  "kernelspec": {
   "display_name": "Python 3",
   "language": "python",
   "name": "python3"
  },
  "language_info": {
   "codemirror_mode": {
    "name": "ipython",
    "version": 3
   },
   "file_extension": ".py",
   "mimetype": "text/x-python",
   "name": "python",
   "nbconvert_exporter": "python",
   "pygments_lexer": "ipython3",
   "version": "3.7.6"
  }
 },
 "nbformat": 4,
 "nbformat_minor": 4
}
