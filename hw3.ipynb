{
 "cells": [
  {
   "cell_type": "markdown",
   "metadata": {},
   "source": [
    "# Python HW3"
   ]
  },
  {
   "cell_type": "markdown",
   "metadata": {},
   "source": [
    "*by: Yahui Zhao* "
   ]
  },
  {
   "cell_type": "markdown",
   "metadata": {},
   "source": [
    "## Problem 1"
   ]
  },
  {
   "cell_type": "markdown",
   "metadata": {},
   "source": [
    "Naive python implementation:"
   ]
  },
  {
   "cell_type": "code",
   "execution_count": 34,
   "metadata": {},
   "outputs": [],
   "source": [
    "def func1(names, db):\n",
    "    idx = []\n",
    "    for i in names:\n",
    "        if i in db:\n",
    "            idx.append(db.index(i))\n",
    "    return idx"
   ]
  },
  {
   "cell_type": "markdown",
   "metadata": {},
   "source": [
    "Only numpy functions implementation:"
   ]
  },
  {
   "cell_type": "code",
   "execution_count": 35,
   "metadata": {},
   "outputs": [],
   "source": [
    "import numpy as np\n",
    "\n",
    "def func2(names, db):\n",
    "    temp = np.arange(len(db))\n",
    "    return temp[np.isin(db,names)]"
   ]
  },
  {
   "cell_type": "markdown",
   "metadata": {},
   "source": [
    "Compare the running time of naive python implementation with only numpy functions implementation:"
   ]
  },
  {
   "cell_type": "code",
   "execution_count": 36,
   "metadata": {},
   "outputs": [
    {
     "name": "stdout",
     "output_type": "stream",
     "text": [
      "17.6 s ± 155 ms per loop (mean ± std. dev. of 7 runs, 1 loop each)\n",
      "5.32 ms ± 75.2 µs per loop (mean ± std. dev. of 7 runs, 100 loops each)\n"
     ]
    }
   ],
   "source": [
    "names = [i for i in range(100000) if i%10 == 0]\n",
    "db = list(range(100000))\n",
    "\n",
    "names2 = np.array(names)\n",
    "db2 = np.array(db)\n",
    "\n",
    "# calculate the running time\n",
    "%timeit func1(names,db)\n",
    "%timeit func2(names2, db2)"
   ]
  },
  {
   "cell_type": "markdown",
   "metadata": {},
   "source": [
    "Only numpy functions implementation is much faster than naive python implementation."
   ]
  },
  {
   "cell_type": "markdown",
   "metadata": {},
   "source": [
    "## Problem 2"
   ]
  },
  {
   "cell_type": "code",
   "execution_count": 37,
   "metadata": {},
   "outputs": [],
   "source": [
    "def search_pairs(coordinates, r0):\n",
    "    # calculate the distances between points\n",
    "    pair_distance = np.linalg.norm(coordinates[:, np.newaxis, :] - coordinates, axis = 2)\n",
    "    \n",
    "    # get the points in the circle\n",
    "    point_in_circle = np.linalg.norm(coordinates, axis = 1) < r0\n",
    "    pair_distance = np.tril(pair_distance, k = -1)\n",
    "    \n",
    "    # get the distances of points in circle\n",
    "    mask_r0 = np.tril(point_in_circle[: , np.newaxis] ^ point_in_circle, k = -1)\n",
    "    point_in_circle_dists = pair_distance[mask_r0]\n",
    "    \n",
    "    # get the largest 3 distances between points\n",
    "    three_largest_point = np.partition(point_in_circle_dists, -3)[-3:]\n",
    "    print(\"The largest 3 distances between points are: \", three_largest_point)\n",
    "\n",
    "    # return the three pairs of points\n",
    "    index = np.where(np.isin(pair_distance, three_largest_point))\n",
    "    return np.transpose(index)"
   ]
  },
  {
   "cell_type": "code",
   "execution_count": 38,
   "metadata": {},
   "outputs": [],
   "source": [
    "coordinates = np.array(\n",
    "[[0.968, 0.313],\n",
    " [0.692, 0.876],\n",
    " [0.895, 0.085],\n",
    " [0.039, 0.17 ],\n",
    " [0.878, 0.098]]\n",
    ")"
   ]
  },
  {
   "cell_type": "code",
   "execution_count": 39,
   "metadata": {},
   "outputs": [],
   "source": [
    "cirle_r0 = 0.9"
   ]
  },
  {
   "cell_type": "code",
   "execution_count": 40,
   "metadata": {},
   "outputs": [
    {
     "name": "stdout",
     "output_type": "stream",
     "text": [
      "The largest 3 distances between points are:  [0.81663333 0.93994149 0.96168862]\n",
      "[[2 1]\n",
      " [3 0]\n",
      " [3 1]]\n"
     ]
    }
   ],
   "source": [
    "print(search_pairs(coordinates, cirle_r0))"
   ]
  }
 ],
 "metadata": {
  "kernelspec": {
   "display_name": "Python 3",
   "language": "python",
   "name": "python3"
  },
  "language_info": {
   "codemirror_mode": {
    "name": "ipython",
    "version": 3
   },
   "file_extension": ".py",
   "mimetype": "text/x-python",
   "name": "python",
   "nbconvert_exporter": "python",
   "pygments_lexer": "ipython3",
   "version": "3.7.6"
  }
 },
 "nbformat": 4,
 "nbformat_minor": 4
}
