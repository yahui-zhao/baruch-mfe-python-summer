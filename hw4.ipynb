{
 "cells": [
  {
   "cell_type": "markdown",
   "metadata": {},
   "source": [
    "# Python HW4"
   ]
  },
  {
   "cell_type": "markdown",
   "metadata": {},
   "source": [
    "*by: Yahui Zhao* "
   ]
  },
  {
   "cell_type": "code",
   "execution_count": 74,
   "metadata": {},
   "outputs": [
    {
     "data": {
      "text/html": [
       "<style>.container { width:100% !important; }</style>"
      ],
      "text/plain": [
       "<IPython.core.display.HTML object>"
      ]
     },
     "metadata": {},
     "output_type": "display_data"
    }
   ],
   "source": [
    "from IPython.core.display import display, HTML\n",
    "display(HTML(\"<style>.container { width:100% !important; }</style>\"))\n",
    "import pandas as pd\n",
    "import numpy as np"
   ]
  },
  {
   "cell_type": "markdown",
   "metadata": {},
   "source": [
    "## Question 1 Exploratory Data Analysis"
   ]
  },
  {
   "cell_type": "code",
   "execution_count": 75,
   "metadata": {},
   "outputs": [],
   "source": [
    "import zipfile\n",
    "import matplotlib.pyplot as plt"
   ]
  },
  {
   "cell_type": "code",
   "execution_count": 76,
   "metadata": {},
   "outputs": [],
   "source": [
    "# load data\n",
    "compustat_zip = zipfile.ZipFile(\"/Users/zhaoyahui/Downloads/compustat.zip\")\n",
    "compustat_data = pd.read_csv(compustat_zip.open('compustat.csv'), header = 0)"
   ]
  },
  {
   "cell_type": "code",
   "execution_count": 77,
   "metadata": {},
   "outputs": [
    {
     "data": {
      "text/html": [
       "<div>\n",
       "<style scoped>\n",
       "    .dataframe tbody tr th:only-of-type {\n",
       "        vertical-align: middle;\n",
       "    }\n",
       "\n",
       "    .dataframe tbody tr th {\n",
       "        vertical-align: top;\n",
       "    }\n",
       "\n",
       "    .dataframe thead th {\n",
       "        text-align: right;\n",
       "    }\n",
       "</style>\n",
       "<table border=\"1\" class=\"dataframe\">\n",
       "  <thead>\n",
       "    <tr style=\"text-align: right;\">\n",
       "      <th></th>\n",
       "      <th>sic</th>\n",
       "      <th>datacqtr</th>\n",
       "      <th>cusip</th>\n",
       "      <th>cshoq</th>\n",
       "      <th>saleq</th>\n",
       "      <th>prccq</th>\n",
       "    </tr>\n",
       "  </thead>\n",
       "  <tbody>\n",
       "    <tr>\n",
       "      <th>0</th>\n",
       "      <td>3089.0</td>\n",
       "      <td>1966Q1</td>\n",
       "      <td>000032102</td>\n",
       "      <td>0.219</td>\n",
       "      <td>NaN</td>\n",
       "      <td>NaN</td>\n",
       "    </tr>\n",
       "    <tr>\n",
       "      <th>1</th>\n",
       "      <td>3089.0</td>\n",
       "      <td>1966Q2</td>\n",
       "      <td>000032102</td>\n",
       "      <td>0.219</td>\n",
       "      <td>NaN</td>\n",
       "      <td>NaN</td>\n",
       "    </tr>\n",
       "    <tr>\n",
       "      <th>2</th>\n",
       "      <td>3089.0</td>\n",
       "      <td>1966Q3</td>\n",
       "      <td>000032102</td>\n",
       "      <td>0.219</td>\n",
       "      <td>NaN</td>\n",
       "      <td>NaN</td>\n",
       "    </tr>\n",
       "    <tr>\n",
       "      <th>3</th>\n",
       "      <td>3089.0</td>\n",
       "      <td>1966Q4</td>\n",
       "      <td>000032102</td>\n",
       "      <td>0.219</td>\n",
       "      <td>4.032</td>\n",
       "      <td>NaN</td>\n",
       "    </tr>\n",
       "    <tr>\n",
       "      <th>4</th>\n",
       "      <td>3089.0</td>\n",
       "      <td>1967Q1</td>\n",
       "      <td>000032102</td>\n",
       "      <td>0.277</td>\n",
       "      <td>NaN</td>\n",
       "      <td>NaN</td>\n",
       "    </tr>\n",
       "  </tbody>\n",
       "</table>\n",
       "</div>"
      ],
      "text/plain": [
       "      sic datacqtr      cusip  cshoq  saleq  prccq\n",
       "0  3089.0   1966Q1  000032102  0.219    NaN    NaN\n",
       "1  3089.0   1966Q2  000032102  0.219    NaN    NaN\n",
       "2  3089.0   1966Q3  000032102  0.219    NaN    NaN\n",
       "3  3089.0   1966Q4  000032102  0.219  4.032    NaN\n",
       "4  3089.0   1967Q1  000032102  0.277    NaN    NaN"
      ]
     },
     "execution_count": 77,
     "metadata": {},
     "output_type": "execute_result"
    }
   ],
   "source": [
    "# get the data we need\n",
    "data = compustat_data[['sic', 'datacqtr', 'cusip', 'cshoq', 'saleq', 'prccq']]\n",
    "data.head()"
   ]
  },
  {
   "cell_type": "code",
   "execution_count": 78,
   "metadata": {},
   "outputs": [
    {
     "name": "stderr",
     "output_type": "stream",
     "text": [
      "/Users/zhaoyahui/opt/anaconda3/lib/python3.7/site-packages/pandas/core/indexing.py:376: SettingWithCopyWarning: \n",
      "A value is trying to be set on a copy of a slice from a DataFrame.\n",
      "Try using .loc[row_indexer,col_indexer] = value instead\n",
      "\n",
      "See the caveats in the documentation: http://pandas.pydata.org/pandas-docs/stable/user_guide/indexing.html#returning-a-view-versus-a-copy\n",
      "  self.obj[key] = _infer_fill_value(value)\n",
      "/Users/zhaoyahui/opt/anaconda3/lib/python3.7/site-packages/pandas/core/indexing.py:494: SettingWithCopyWarning: \n",
      "A value is trying to be set on a copy of a slice from a DataFrame.\n",
      "Try using .loc[row_indexer,col_indexer] = value instead\n",
      "\n",
      "See the caveats in the documentation: http://pandas.pydata.org/pandas-docs/stable/user_guide/indexing.html#returning-a-view-versus-a-copy\n",
      "  self.obj[item] = s\n"
     ]
    },
    {
     "data": {
      "text/html": [
       "<div>\n",
       "<style scoped>\n",
       "    .dataframe tbody tr th:only-of-type {\n",
       "        vertical-align: middle;\n",
       "    }\n",
       "\n",
       "    .dataframe tbody tr th {\n",
       "        vertical-align: top;\n",
       "    }\n",
       "\n",
       "    .dataframe thead th {\n",
       "        text-align: right;\n",
       "    }\n",
       "</style>\n",
       "<table border=\"1\" class=\"dataframe\">\n",
       "  <thead>\n",
       "    <tr style=\"text-align: right;\">\n",
       "      <th></th>\n",
       "      <th>sic</th>\n",
       "      <th>datacqtr</th>\n",
       "      <th>cusip</th>\n",
       "      <th>cshoq</th>\n",
       "      <th>saleq</th>\n",
       "      <th>prccq</th>\n",
       "      <th>market_cap</th>\n",
       "    </tr>\n",
       "  </thead>\n",
       "  <tbody>\n",
       "    <tr>\n",
       "      <th>0</th>\n",
       "      <td>3089.0</td>\n",
       "      <td>1966Q1</td>\n",
       "      <td>000032102</td>\n",
       "      <td>0.219</td>\n",
       "      <td>NaN</td>\n",
       "      <td>NaN</td>\n",
       "      <td>NaN</td>\n",
       "    </tr>\n",
       "    <tr>\n",
       "      <th>1</th>\n",
       "      <td>3089.0</td>\n",
       "      <td>1966Q2</td>\n",
       "      <td>000032102</td>\n",
       "      <td>0.219</td>\n",
       "      <td>NaN</td>\n",
       "      <td>NaN</td>\n",
       "      <td>NaN</td>\n",
       "    </tr>\n",
       "    <tr>\n",
       "      <th>2</th>\n",
       "      <td>3089.0</td>\n",
       "      <td>1966Q3</td>\n",
       "      <td>000032102</td>\n",
       "      <td>0.219</td>\n",
       "      <td>NaN</td>\n",
       "      <td>NaN</td>\n",
       "      <td>NaN</td>\n",
       "    </tr>\n",
       "    <tr>\n",
       "      <th>3</th>\n",
       "      <td>3089.0</td>\n",
       "      <td>1966Q4</td>\n",
       "      <td>000032102</td>\n",
       "      <td>0.219</td>\n",
       "      <td>4.032</td>\n",
       "      <td>NaN</td>\n",
       "      <td>NaN</td>\n",
       "    </tr>\n",
       "    <tr>\n",
       "      <th>4</th>\n",
       "      <td>3089.0</td>\n",
       "      <td>1967Q1</td>\n",
       "      <td>000032102</td>\n",
       "      <td>0.277</td>\n",
       "      <td>NaN</td>\n",
       "      <td>NaN</td>\n",
       "      <td>NaN</td>\n",
       "    </tr>\n",
       "  </tbody>\n",
       "</table>\n",
       "</div>"
      ],
      "text/plain": [
       "      sic datacqtr      cusip  cshoq  saleq  prccq  market_cap\n",
       "0  3089.0   1966Q1  000032102  0.219    NaN    NaN         NaN\n",
       "1  3089.0   1966Q2  000032102  0.219    NaN    NaN         NaN\n",
       "2  3089.0   1966Q3  000032102  0.219    NaN    NaN         NaN\n",
       "3  3089.0   1966Q4  000032102  0.219  4.032    NaN         NaN\n",
       "4  3089.0   1967Q1  000032102  0.277    NaN    NaN         NaN"
      ]
     },
     "execution_count": 78,
     "metadata": {},
     "output_type": "execute_result"
    }
   ],
   "source": [
    "# market cap\n",
    "data.loc[:,\"market_cap\"] = data.loc[:,\"prccq\"] * data.loc[:,\"cshoq\"]\n",
    "data.head()"
   ]
  },
  {
   "cell_type": "code",
   "execution_count": 79,
   "metadata": {},
   "outputs": [
    {
     "data": {
      "text/html": [
       "<div>\n",
       "<style scoped>\n",
       "    .dataframe tbody tr th:only-of-type {\n",
       "        vertical-align: middle;\n",
       "    }\n",
       "\n",
       "    .dataframe tbody tr th {\n",
       "        vertical-align: top;\n",
       "    }\n",
       "\n",
       "    .dataframe thead th {\n",
       "        text-align: right;\n",
       "    }\n",
       "</style>\n",
       "<table border=\"1\" class=\"dataframe\">\n",
       "  <thead>\n",
       "    <tr style=\"text-align: right;\">\n",
       "      <th></th>\n",
       "      <th>0</th>\n",
       "      <th>1</th>\n",
       "    </tr>\n",
       "  </thead>\n",
       "  <tbody>\n",
       "    <tr>\n",
       "      <th>mean</th>\n",
       "      <td>2057.473104</td>\n",
       "      <td>445.150664</td>\n",
       "    </tr>\n",
       "    <tr>\n",
       "      <th>standard deviation</th>\n",
       "      <td>13202.197457</td>\n",
       "      <td>2679.706576</td>\n",
       "    </tr>\n",
       "    <tr>\n",
       "      <th>count of missing values</th>\n",
       "      <td>468276.000000</td>\n",
       "      <td>269498.000000</td>\n",
       "    </tr>\n",
       "    <tr>\n",
       "      <th>ratio of missing values</th>\n",
       "      <td>0.348673</td>\n",
       "      <td>0.174794</td>\n",
       "    </tr>\n",
       "  </tbody>\n",
       "</table>\n",
       "</div>"
      ],
      "text/plain": [
       "                                     0              1\n",
       "mean                       2057.473104     445.150664\n",
       "standard deviation        13202.197457    2679.706576\n",
       "count of missing values  468276.000000  269498.000000\n",
       "ratio of missing values       0.348673       0.174794"
      ]
     },
     "execution_count": 79,
     "metadata": {},
     "output_type": "execute_result"
    }
   ],
   "source": [
    "# For saleq and market cap, compute: Time series mean, Time Series standard deviation etc\n",
    "def aggregate_result(df):\n",
    "    missing_num = df.isnull().sum()\n",
    "    total = df.count()\n",
    "    missing_ratio = missing_num / total\n",
    "    return pd.Series([df.mean(), df.std(), missing_num, missing_ratio], index=['mean', 'standard deviation', 'count of missing values', 'ratio of missing values'])\n",
    "\n",
    "# Aggregate the result\n",
    "market_cap_result = aggregate_result(data['market_cap'])\n",
    "saleq_result = aggregate_result(data['saleq'])\n",
    "aggregate_result = pd.concat([market_cap_result, saleq_result], axis = 1)\n",
    "aggregate_result"
   ]
  },
  {
   "cell_type": "code",
   "execution_count": 80,
   "metadata": {},
   "outputs": [
    {
     "data": {
      "image/png": "[encoded data removed]",
      "text/plain": [
       "<Figure size 1440x864 with 1 Axes>"
      ]
     },
     "metadata": {
      "needs_background": "light"
     },
     "output_type": "display_data"
    },
    {
     "data": {
      "image/png": "[encoded data removed]",
      "text/plain": [
       "<Figure size 1440x864 with 1 Axes>"
      ]
     },
     "metadata": {
      "needs_background": "light"
     },
     "output_type": "display_data"
    }
   ],
   "source": [
    "# outliers\n",
    "plt.rcParams[\"figure.figsize\"] = (20, 12)\n",
    "figure1 = plt.figure().add_subplot(2, 1, 1)\n",
    "figure1.boxplot(data[\"saleq\"].dropna(), vert = False)\n",
    "figure1.set_title(\"the boxplot of saleq\")\n",
    "figure2 = plt.figure().add_subplot(2, 1, 2)\n",
    "figure2.boxplot(data[\"market_cap\"].dropna(), vert = False)\n",
    "figure2.set_title(\"the boxplot of market_cap\")\n",
    "plt.show()"
   ]
  },
  {
   "cell_type": "markdown",
   "metadata": {},
   "source": [
    "I think there are some outliers by using the boxplot to detect it. I guess the reason is that the market variance is really big these days."
   ]
  },
  {
   "cell_type": "markdown",
   "metadata": {},
   "source": [
    "## Question 2 Compute Industry Concentration"
   ]
  },
  {
   "cell_type": "code",
   "execution_count": 81,
   "metadata": {},
   "outputs": [
    {
     "data": {
      "text/plain": [
       "datacqtr  2d-sic\n",
       "1962Q1    45.12     10000.000000\n",
       "          60.20       564.058299\n",
       "1962Q2    40.11      3013.961261\n",
       "          45.12     10000.000000\n",
       "          60.20       543.295514\n",
       "Name: HHI, dtype: float64"
      ]
     },
     "execution_count": 81,
     "metadata": {},
     "output_type": "execute_result"
    }
   ],
   "source": [
    "# by looking at HHI index\n",
    "data_HHI = data.loc[:, [\"datacqtr\", \"market_cap\", \"sic\"]].copy()\n",
    "# drop the missing values\n",
    "data_HHI = data_HHI.dropna()\n",
    "# using a 2 digit SIC code\n",
    "data_HHI[\"2d-sic\"] = data_HHI[\"sic\"] / 100\n",
    "industry_total_cap = data_HHI.groupby([\"2d-sic\", \"datacqtr\"])[\"market_cap\"].sum().reset_index()\n",
    "data_HHI = pd.merge(data_HHI, industry_total_cap, on = [\"2d-sic\",\"datacqtr\"])\n",
    "\n",
    "data_HHI[\"HHI\"] = (data_HHI['market_cap_x'] / data_HHI[\"market_cap_y\"] * 100) ** 2\n",
    "industry_HHI = data_HHI.groupby([\"datacqtr\",\"2d-sic\"])[\"HHI\"].sum()\n",
    "industry_HHI.head()"
   ]
  },
  {
   "cell_type": "code",
   "execution_count": 82,
   "metadata": {},
   "outputs": [
    {
     "data": {
      "text/plain": [
       "2d-sic\n",
       "34.51    9984.447643\n",
       "40.13    9843.342743\n",
       "27.32    9631.589490\n",
       "37.20    9415.444759\n",
       "81.11    9362.460875\n",
       "            ...     \n",
       "67.98     687.366624\n",
       "49.31     508.413701\n",
       "49.11     483.313013\n",
       "60.20     311.314465\n",
       "67.26     271.358670\n",
       "Name: HHI, Length: 441, dtype: float64"
      ]
     },
     "execution_count": 82,
     "metadata": {},
     "output_type": "execute_result"
    }
   ],
   "source": [
    "mean_HHI = industry_HHI.groupby(\"2d-sic\").apply(np.mean)\n",
    "mean_HHI = mean_HHI[mean_HHI < 10000]\n",
    "mean_HHI.sort_values(ascending = False, inplace = True)\n",
    "mean_HHI"
   ]
  },
  {
   "cell_type": "code",
   "execution_count": 83,
   "metadata": {},
   "outputs": [
    {
     "data": {
      "text/plain": [
       "2d-sic\n",
       "34.51    9984.447643\n",
       "40.13    9843.342743\n",
       "27.32    9631.589490\n",
       "37.20    9415.444759\n",
       "Name: HHI, dtype: float64"
      ]
     },
     "execution_count": 83,
     "metadata": {},
     "output_type": "execute_result"
    }
   ],
   "source": [
    "# the top 4\n",
    "HHI_index = pd.DataFrame(industry_HHI)\n",
    "HHI_index.reset_index(inplace = True)\n",
    "\n",
    "HHI_index1 = HHI_index[HHI_index[\"2d-sic\"] == 34.51]\n",
    "HHI_index2 = HHI_index[HHI_index[\"2d-sic\"] == 40.13]\n",
    "HHI_index3 = HHI_index[HHI_index[\"2d-sic\"] == 27.32]\n",
    "HHI_index4 = HHI_index[HHI_index[\"2d-sic\"] == 37.20]\n",
    "\n",
    "top_HHI = mean_HHI.head(4)\n",
    "top_HHI"
   ]
  },
  {
   "cell_type": "code",
   "execution_count": 84,
   "metadata": {},
   "outputs": [
    {
     "data": {
      "image/png": "[encoded data removed]",
      "text/plain": [
       "<Figure size 1440x864 with 4 Axes>"
      ]
     },
     "metadata": {
      "needs_background": "light"
     },
     "output_type": "display_data"
    }
   ],
   "source": [
    "# Plot the time series pattern of HHI in 2 by 2 figure\n",
    "plt.rcParams[\"figure.figsize\"] = (20, 12)\n",
    "\n",
    "ax1 = plt.subplot(2, 2, 1)\n",
    "plt.plot(HHI_index1.index, HHI_index1[\"HHI\"])\n",
    "\n",
    "ax2 = plt.subplot(2, 2, 2)\n",
    "plt.plot(HHI_index2.index, HHI_index2[\"HHI\"])\n",
    "\n",
    "ax3 = plt.subplot(2, 2, 3)\n",
    "plt.plot(HHI_index3.index, HHI_index3[\"HHI\"])\n",
    "\n",
    "ax4 = plt.subplot(2, 2, 4)\n",
    "plt.plot(HHI_index4.index, HHI_index4[\"HHI\"])\n",
    "\n",
    "plt.show()"
   ]
  }
 ],
 "metadata": {
  "kernelspec": {
   "display_name": "Python 3",
   "language": "python",
   "name": "python3"
  },
  "language_info": {
   "codemirror_mode": {
    "name": "ipython",
    "version": 3
   },
   "file_extension": ".py",
   "mimetype": "text/x-python",
   "name": "python",
   "nbconvert_exporter": "python",
   "pygments_lexer": "ipython3",
   "version": "3.7.5"
  }
 },
 "nbformat": 4,
 "nbformat_minor": 2
}
